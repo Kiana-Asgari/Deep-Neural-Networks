{
  "nbformat": 4,
  "nbformat_minor": 0,
  "metadata": {
    "colab": {
      "provenance": [],
      "collapsed_sections": [],
      "toc_visible": true
    },
    "kernelspec": {
      "name": "python3",
      "display_name": "Python 3"
    },
    "language_info": {
      "name": "python"
    }
  },
  "cells": [
    {
      "cell_type": "markdown",
      "metadata": {
        "id": "ak18_VsaduFB"
      },
      "source": [
        "KIANA ASGARI\n",
        "\n",
        "97100473"
      ]
    },
    {
      "cell_type": "markdown",
      "metadata": {
        "id": "tozbYrowTavI"
      },
      "source": [
        "# INIT"
      ]
    },
    {
      "cell_type": "code",
      "metadata": {
        "id": "mYUmNjhrTiXR"
      },
      "source": [
        "import numpy as np\n",
        "import sys\n",
        "import gym\n",
        "import torch\n",
        "import pylab\n",
        "import random\n",
        "\n",
        "\n",
        "\n",
        "import torch.nn.functional as F\n",
        "from torch.autograd import Variable\n",
        "from torchvision import transforms\n",
        "from collections import deque\n",
        "import torch.nn as nn\n",
        "import torch.optim as optim\n"
      ],
      "execution_count": null,
      "outputs": []
    },
    {
      "cell_type": "code",
      "metadata": {
        "id": "Wx-aY4cjUVut"
      },
      "source": [
        "env = gym.make('CartPole-v1')\n",
        "input_dim = env.observation_space.shape[0]\n",
        "n_action = env.action_space.n"
      ],
      "execution_count": null,
      "outputs": []
    },
    {
      "cell_type": "markdown",
      "metadata": {
        "id": "pLeoQk58Ta5G"
      },
      "source": [
        "# Model"
      ]
    },
    {
      "cell_type": "markdown",
      "metadata": {
        "id": "F0yY_GYLbwac"
      },
      "source": [
        "implimenting DQN model"
      ]
    },
    {
      "cell_type": "code",
      "metadata": {
        "id": "_u7jzcuLTqdd"
      },
      "source": [
        "class DQN(nn.Module):\n",
        "    def __init__(self, input_dim, n_action):\n",
        "        super(DQN, self).__init__()\n",
        "        self.model = nn.Sequential(\n",
        "            nn.Linear(input_dim, 64),\n",
        "            nn.ReLU(),\n",
        "            nn.Linear(64, 32),\n",
        "            nn.ReLU(),\n",
        "            nn.Linear(32, n_action)\n",
        "        )\n",
        "\n",
        "    def forward(self, x):\n",
        "        return self.model(x)"
      ],
      "execution_count": null,
      "outputs": []
    },
    {
      "cell_type": "markdown",
      "metadata": {
        "id": "cBfD1lRWbRgT"
      },
      "source": [
        "implimenting self leaner agent"
      ]
    },
    {
      "cell_type": "code",
      "metadata": {
        "id": "yVOqY_aiTsEr"
      },
      "source": [
        "class Agent():\n",
        "    def __init__(self, input_dim, n_action):\n",
        "\n",
        "        #parameter ha az site asli bardashte shodan\n",
        "        self.render = False\n",
        "        self.load_model = False\n",
        "\n",
        "        self.input_dim = input_dim\n",
        "        self.n_action = n_action\n",
        "\n",
        "        self.discount_factor = 0.99\n",
        "        self.learning_rate = 0.001\n",
        "        self.memory_size = 20000\n",
        "        self.epsilon = 1.0\n",
        "        self.epsilon_min = 0.01\n",
        "        self.explore_step = 5000\n",
        "        self.epsilon_decay = (self.epsilon - self.epsilon_min) / self.explore_step\n",
        "        self.batch_size = 64\n",
        "        self.train_start = 1000\n",
        "        self.memory = deque(maxlen=self.memory_size)\n",
        "        self.model = DQN(input_dim, n_action)\n",
        "        self.model.apply(self.weights_init)\n",
        "        self.DQN = DQN(input_dim, n_action)\n",
        "        self.optimizer = optim.Adam(self.model.parameters(),\n",
        "                                    lr=self.learning_rate)\n",
        "\n",
        "        self.DQN.load_state_dict(self.model.state_dict())\n",
        "\n",
        "        if self.load_model:\n",
        "            self.model = torch.load('save_model/cartpole_dqn')\n",
        "\n",
        "    def weights_init(self, m):\n",
        "        classname = m.__class__.__name__\n",
        "        if classname.find('Linear') != -1:\n",
        "            torch.nn.init.xavier_uniform(m.weight)\n",
        "\n",
        "    def get_action(self, state):\n",
        "        if np.random.rand() <= self.epsilon:\n",
        "            return random.randrange(self.n_action)\n",
        "        else:\n",
        "            state = torch.from_numpy(state)\n",
        "            state = Variable(state).float().cpu()\n",
        "            q_value = self.model(state)\n",
        "            _, action = torch.max(q_value, 1)\n",
        "            return int(action)\n",
        "\n",
        "\n",
        "\n",
        "############################################################\n",
        "    def train(self):\n",
        "        if self.epsilon > self.epsilon_min:\n",
        "            self.epsilon -= self.epsilon_decay\n",
        "\n",
        "        mini_batch = random.sample(self.memory, self.batch_size)\n",
        "        mini_batch = np.array(mini_batch).transpose()\n",
        "\n",
        "        states = np.vstack(mini_batch[0])\n",
        "        actions = list(mini_batch[1])\n",
        "        rewards = list(mini_batch[2])\n",
        "        next_states = np.vstack(mini_batch[3])\n",
        "        dones = mini_batch[4]\n",
        "\n",
        "        dones = dones.astype(int)\n",
        "\n",
        "        states = torch.Tensor(states)\n",
        "        states = Variable(states).float()\n",
        "        pred = self.model(states)\n",
        "\n",
        "        a = torch.LongTensor(actions).view(-1, 1)\n",
        "\n",
        "        one_hot_action = torch.FloatTensor(self.batch_size, self.n_action).zero_()\n",
        "        one_hot_action.scatter_(1, a, 1)\n",
        "\n",
        "        pred = torch.sum(pred.mul(Variable(one_hot_action)), dim=1)\n",
        "\n",
        "        next_states = torch.Tensor(next_states)\n",
        "        next_states = Variable(next_states).float()\n",
        "        next_pred = self.DQN(next_states).data\n",
        "\n",
        "        rewards = torch.FloatTensor(rewards)\n",
        "        dones = torch.FloatTensor(dones)\n",
        "\n",
        "        target = rewards + (1 - dones) * self.discount_factor * next_pred.max(1)[0]\n",
        "        target = Variable(target)\n",
        "\n",
        "        self.optimizer.zero_grad()\n",
        "\n",
        "        loss = F.mse_loss(pred,target)\n",
        "        loss.backward()\n",
        "\n",
        "        self.optimizer.step()"
      ],
      "execution_count": null,
      "outputs": []
    },
    {
      "cell_type": "code",
      "metadata": {
        "id": "cAr5poBBTqw7"
      },
      "source": [],
      "execution_count": null,
      "outputs": []
    },
    {
      "cell_type": "markdown",
      "metadata": {
        "id": "_AT2u2uWTp-h"
      },
      "source": [
        "# New Section"
      ]
    },
    {
      "cell_type": "code",
      "metadata": {
        "id": "fmdtlbnFUsNf",
        "colab": {
          "base_uri": "https://localhost:8080/"
        },
        "outputId": "661d40c7-fd6e-45e5-888e-43c028f3b8f5"
      },
      "source": [
        "model = DQN(input_dim, n_action)\n",
        "agent = Agent(input_dim, n_action)\n",
        "scores, episodes = [], []"
      ],
      "execution_count": null,
      "outputs": [
        {
          "output_type": "stream",
          "text": [
            "/usr/local/lib/python3.7/dist-packages/ipykernel_launcher.py:35: UserWarning: nn.init.xavier_uniform is now deprecated in favor of nn.init.xavier_uniform_.\n"
          ],
          "name": "stderr"
        }
      ]
    },
    {
      "cell_type": "markdown",
      "metadata": {
        "id": "K-60Cl2eUry6"
      },
      "source": [
        "# TRAIN"
      ]
    },
    {
      "cell_type": "code",
      "metadata": {
        "colab": {
          "base_uri": "https://localhost:8080/",
          "height": 484
        },
        "id": "b7NB0B9Ifion",
        "outputId": "f9050d68-2075-4bb1-b973-150643fab325"
      },
      "source": [
        "\n",
        "for e in range(500):\n",
        "    score = 0\n",
        "    state = env.reset()\n",
        "    state = np.reshape(state, [1, input_dim])\n",
        "\n",
        "    while True:\n",
        "        if agent.render:\n",
        "            env.render()\n",
        "\n",
        "        action = agent.get_action(state)\n",
        "\n",
        "        next_state, reward, done, info = env.step(action)\n",
        "        reward = reward if not done or score == 499 else -10\n",
        "\n",
        "        next_state = np.reshape(next_state, [1, input_dim])\n",
        "\n",
        "        agent.memory.append((state, action, reward, next_state, done))\n",
        "\n",
        "        if len(agent.memory) >= agent.train_start:\n",
        "            agent.train()\n",
        "\n",
        "        score += reward\n",
        "        state = next_state\n",
        "\n",
        "        if done:\n",
        "            agent.DQN.load_state_dict(agent.model.state_dict())\n",
        "\n",
        "            #score = score if score == 500 else score + 10\n",
        "            scores.append(score)\n",
        "            episodes.append(e)\n",
        "            if e%50==0:\n",
        "                print(\"[EPISODE]:\", e+1, \"    score=\", score)\n",
        "            break\n",
        "\n",
        "\n",
        "pylab.plot(episodes, scores, 'r')\n"
      ],
      "execution_count": null,
      "outputs": [
        {
          "output_type": "stream",
          "text": [
            "[EPISODE]: 1     score= 9.0\n"
          ],
          "name": "stdout"
        },
        {
          "output_type": "stream",
          "text": [
            "/usr/local/lib/python3.7/dist-packages/ipykernel_launcher.py:55: VisibleDeprecationWarning: Creating an ndarray from ragged nested sequences (which is a list-or-tuple of lists-or-tuples-or ndarrays with different lengths or shapes) is deprecated. If you meant to do this, you must specify 'dtype=object' when creating the ndarray\n"
          ],
          "name": "stderr"
        },
        {
          "output_type": "stream",
          "text": [
            "[EPISODE]: 51     score= 17.0\n",
            "[EPISODE]: 101     score= 134.0\n",
            "[EPISODE]: 151     score= 181.0\n",
            "[EPISODE]: 201     score= 153.0\n",
            "[EPISODE]: 251     score= 500.0\n",
            "[EPISODE]: 301     score= 112.0\n",
            "[EPISODE]: 351     score= 500.0\n",
            "[EPISODE]: 401     score= 500.0\n",
            "[EPISODE]: 451     score= 500.0\n"
          ],
          "name": "stdout"
        },
        {
          "output_type": "execute_result",
          "data": {
            "text/plain": [
              "[<matplotlib.lines.Line2D at 0x7f0ba40524d0>]"
            ]
          },
          "metadata": {
            "tags": []
          },
          "execution_count": 51
        },
        {
          "output_type": "display_data",
          "data": {
            "image/png": "[encoded data removed]",
            "text/plain": [
              "<Figure size 432x288 with 1 Axes>"
            ]
          },
          "metadata": {
            "tags": [],
            "needs_background": "light"
          }
        }
      ]
    },
    {
      "cell_type": "markdown",
      "metadata": {
        "id": "xibwhi5vifqr"
      },
      "source": [
        "توجه!!\n",
        "دلیل اینکه اخراش یکم احمق شده نمودار اینه که کران 500 برای اسکور گذاشتم و وقتی به اسکور مد نظر رسید برای اینکه حتما 500 بار اجزا بشه شبکه  رو متوقف نکردم!"
      ]
    }
  ]
}