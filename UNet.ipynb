{
  "nbformat": 4,
  "nbformat_minor": 0,
  "metadata": {
    "colab": {
      "provenance": [],
      "collapsed_sections": [],
      "toc_visible": true
    },
    "kernelspec": {
      "display_name": "Python 3",
      "language": "python",
      "name": "python3"
    },
    "language_info": {
      "codemirror_mode": {
        "name": "ipython",
        "version": 3
      },
      "file_extension": ".py",
      "mimetype": "text/x-python",
      "name": "python",
      "nbconvert_exporter": "python",
      "pygments_lexer": "ipython3",
      "version": "3.8.5"
    }
  },
  "cells": [
    {
      "cell_type": "markdown",
      "metadata": {
        "id": "GA5l4mnZn03B"
      },
      "source": [
        "## DataSet"
      ]
    },
    {
      "cell_type": "code",
      "metadata": {
        "id": "oi3BYfPQvnvd"
      },
      "source": [
        "from __future__ import print_function\n",
        "import torch\n",
        "import torch.nn as nn\n",
        "import torch.optim as optim\n",
        "import torch.nn.functional as F\n",
        "from torch.utils.data import DataLoader\n",
        "from torchvision import datasets, transforms, utils\n",
        "from torch.autograd import Variable\n",
        "\n",
        "import os\n",
        "import csv\n",
        "import numpy as np\n",
        "import pandas as pd\n",
        "\n",
        "from matplotlib import pyplot as plt\n",
        "%matplotlib inline\n",
        "# Ignore warnings\n",
        "import warnings\n",
        "warnings.filterwarnings(\"ignore\")\n",
        "\n",
        "%load_ext autoreload\n",
        "\n",
        "%autoreload 2\n",
        "plt.ion()   # interactive mode\n",
        "\n",
        "\n",
        "\n",
        "from torch.nn import Conv2d as Conv2D\n",
        "import torch.nn.init as init\n",
        "import torch.nn.functional as F\n",
        "from torch.nn import Upsample\n",
        "\n",
        "import cv2\n",
        "from torch.utils.data import Dataset"
      ],
      "execution_count": null,
      "outputs": []
    },
    {
      "cell_type": "code",
      "metadata": {
        "colab": {
          "base_uri": "https://localhost:8080/"
        },
        "id": "m1EtK9dZH4pq",
        "outputId": "2d129bae-f569-4dfc-c0dc-e9548b902689"
      },
      "source": [
        "!gdown --id 1opMhHAiMJVdD0eYAJEcuHZgTscgFBCpj\n",
        "!gdown --id 1uVs0yvi-HRj0yyez9MbnGwk_EsCHDLzl"
      ],
      "execution_count": null,
      "outputs": [
        {
          "output_type": "stream",
          "text": [
            "Downloading...\n",
            "From: https://drive.google.com/uc?id=1opMhHAiMJVdD0eYAJEcuHZgTscgFBCpj\n",
            "To: /content/2d_images.zip.zip\n",
            "102MB [00:00, 111MB/s]  \n",
            "Downloading...\n",
            "From: https://drive.google.com/uc?id=1uVs0yvi-HRj0yyez9MbnGwk_EsCHDLzl\n",
            "To: /content/2d_masks.zip.zip\n",
            "100% 585k/585k [00:00<00:00, 35.7MB/s]\n"
          ],
          "name": "stdout"
        }
      ]
    },
    {
      "cell_type": "code",
      "metadata": {
        "id": "WQwEuQi9U92t"
      },
      "source": [
        "%mkdir Dataset\n",
        "%mkdir Dataset/2d_images\n",
        "%mkdir Dataset/2d_masks"
      ],
      "execution_count": null,
      "outputs": []
    },
    {
      "cell_type": "code",
      "metadata": {
        "id": "Bhf6fHWlURN6"
      },
      "source": [
        "!unzip -q 2d_images.zip.zip \n",
        "!unzip -q 2d_images.zip -d Dataset/2d_images\n",
        "\n",
        "!unzip -q 2d_masks.zip.zip \n",
        "!unzip -q 2d_masks.zip -d Dataset/2d_masks"
      ],
      "execution_count": null,
      "outputs": []
    },
    {
      "cell_type": "code",
      "metadata": {
        "id": "eDjVbTzKV9JI"
      },
      "source": [
        "!rm -rf 2d_images.zip.zip\n",
        "!rm -rf 2d_images.zip\n",
        "\n",
        "!rm -rf 2d_masks.zip.zip\n",
        "!rm -rf 2d_masks.zip"
      ],
      "execution_count": null,
      "outputs": []
    },
    {
      "cell_type": "markdown",
      "metadata": {
        "id": "zr7lj5Hcyabk"
      },
      "source": [
        "## DataLoader"
      ]
    },
    {
      "cell_type": "code",
      "metadata": {
        "id": "2Ukp9r5W9eZC"
      },
      "source": [
        "class CT_Data(Dataset):\n",
        "\n",
        "    def __init__(self, csv_file, root_dir):\n",
        "\n",
        "        self.image_frame = pd.read_csv(csv_file, skiprows=1)\n",
        "        self.root_dir = root_dir\n",
        "\n",
        "    def __len__(self):\n",
        "        return len(self.image_frame)\n",
        "\n",
        "    def __getitem__(self, idx):\n",
        "\n",
        "        img_name = os.path.join(self.root_dir, self.image_frame.iloc[idx, 0])\n",
        "        mask_name = os.path.join(self.root_dir, self.image_frame.iloc[idx, 1])\n",
        "        image = cv2.imread(img_name, 0)\n",
        "        image = cv2.resize(image,(32, 32))\n",
        "        image = image.reshape((1, 32, 32))\n",
        "        mask = cv2.imread(mask_name, 0)\n",
        "        mask = cv2.resize(mask, (32, 32))\n",
        "        mask = mask.reshape((1, 32, 32))\n",
        "        sample = {'image': image, 'mask': mask}\n",
        "        return sample"
      ],
      "execution_count": null,
      "outputs": []
    },
    {
      "cell_type": "code",
      "metadata": {
        "id": "4akgB1MbygYG"
      },
      "source": [
        "img_dir = \"Dataset/2d_images/\"\n",
        "msk_dir = \"Dataset/2d_masks/\"\n",
        "with open('Dataset/Dataset.csv', 'w') as csv_file:\n",
        "    writer = csv.writer(csv_file)\n",
        "    writer.writerow([\"filename\", \"mask\"])\n",
        "    for p in os.listdir(img_dir):\n",
        "        image_path = os.path.join(img_dir, p)\n",
        "        mask_path = os.path.join(msk_dir, p)\n",
        "        writer.writerow([image_path, mask_path])\n",
        "\n",
        "\n",
        "data = pd.read_csv(\"Dataset/Dataset.csv\")\n",
        "data = data.iloc[np.random.permutation(len(data))]\n",
        "partition = int(len(data)*0.7)\n",
        "train, validation = data[:partition], data[partition:]\n",
        "train.to_csv(\"Dataset/Train.csv\", index=False)\n",
        "validation.to_csv(\"Dataset/Validation.csv\", index=False)\n",
        "\n",
        "train_dataset = CT_Data(csv_file='Dataset/Train.csv', root_dir='/content')\n",
        "val_dataset = CT_Data(csv_file='Dataset/Validation.csv', root_dir='/content')\n",
        "train_dataloader = DataLoader(train_dataset, batch_size=37, shuffle=True, num_workers=4)\n",
        "val_dataloader = DataLoader(val_dataset, batch_size=20, shuffle=True, num_workers=4)"
      ],
      "execution_count": null,
      "outputs": []
    },
    {
      "cell_type": "markdown",
      "metadata": {
        "id": "ZwURMcpXE2Fq"
      },
      "source": [
        "Hyper Parameter"
      ]
    },
    {
      "cell_type": "code",
      "metadata": {
        "id": "gW9qDmSAE1sk"
      },
      "source": [
        "device = torch.device('cuda' if torch.cuda.is_available() else 'cpu')\n",
        "learning_rate = 0.0001\n",
        "freq = 2\n",
        "n_eopchs = 20\n"
      ],
      "execution_count": null,
      "outputs": []
    },
    {
      "cell_type": "markdown",
      "metadata": {
        "id": "vPXR8tEIyhyw"
      },
      "source": [
        "## U-Net Model"
      ]
    },
    {
      "cell_type": "code",
      "metadata": {
        "id": "CpsspcUc9AIY"
      },
      "source": [
        "## baray impliment, komak az code source dar git gerefetam ::\n",
        "\n",
        "class MyConv(nn.Module):\n",
        "    def __init__(self, channel_in, channel_out):\n",
        "        super().__init__()\n",
        "        self.model = nn.Sequential(\n",
        "            nn.Conv2d(channel_in, channel_out, kernel_size=3, padding=1),\n",
        "            nn.BatchNorm2d(channel_out),\n",
        "            nn.ReLU(inplace=True)\n",
        "            )\n",
        "    \n",
        "    def forward(self, x):\n",
        "        return self.model(x)\n",
        "\n",
        "\n",
        "\n",
        "\n",
        "class Up(nn.Module):\n",
        "    def __init__(self, channel_in, channel_out):\n",
        "        super().__init__()\n",
        "        self.up = nn.ConvTranspose2d(channel_in , channel_out, kernel_size=2, stride=2)\n",
        "        self.conv = MyConv(channel_in, channel_out)\n",
        "        \n",
        "    def forward(self, x1, x2):\n",
        "        x1 = self.up(x1)\n",
        "        diffY = x2.size()[2] - x1.size()[2]\n",
        "        diffX = x2.size()[3] - x1.size()[3]\n",
        "\n",
        "        x1 = F.pad(x1, [diffX // 2, diffX - diffX // 2,\n",
        "                        diffY // 2, diffY - diffY // 2])\n",
        "        x = torch.cat([x2, x1], dim=1)\n",
        "        x = self.conv(x)\n",
        "\n",
        "        return x\n",
        "\n",
        "\n",
        "class Down(nn.Module):\n",
        "    def __init__(self, channel_in, channel_out):\n",
        "        super().__init__()\n",
        "        self.model = nn.Sequential(\n",
        "                nn.MaxPool2d(2),\n",
        "                MyConv(channel_in, channel_out)           \n",
        "              )\n",
        "\n",
        "\n",
        "    def forward(self, x):\n",
        "        return self.model(x)\n",
        "\n",
        "class UNet(nn.Module):\n",
        "    def __init__(self, channel_in, n_classes):\n",
        "        super(UNet, self).__init__()\n",
        "\n",
        "        self.conv1 = MyConv(channel_in, 128)\n",
        "        self.down1 = Down(128, 256)\n",
        "        self.down2 = Down(256, 512)\n",
        "        self.down3 = Down(512, 1024)\n",
        "        self.down4 = Down(1024, 2048)\n",
        "        self.up1 = Up(2048, 1024)\n",
        "        self.up2 = Up(1024, 512)\n",
        "        self.up3 = Up(512, 256)\n",
        "        self.up4 = Up(256, 128)\n",
        "        self.conv2 = nn.Conv2d(128, n_classes, kernel_size=1)\n",
        "\n",
        "    def forward(self, x):\n",
        "        x1 = self.conv1(x)\n",
        "        x2 = self.down1(x1)\n",
        "        x3 = self.down2(x2)\n",
        "        x4 = self.down3(x3)\n",
        "        x5 = self.down4(x4)\n",
        "        x = self.up1(x5, x4)\n",
        "        x = self.up2(x, x3)\n",
        "        x = self.up3(x, x2)\n",
        "        x = self.up4(x, x1)\n",
        "        x = self.conv2(x)\n",
        "        return x\n",
        "    \n",
        "def weights_init(m):\n",
        "    if isinstance(m, nn.Conv2d):\n",
        "        init.xavier_uniform(m.weight, gain=numpy.sqrt(2.0))\n",
        "        init.constant(m.bias, 0.1)\n",
        "    "
      ],
      "execution_count": null,
      "outputs": []
    },
    {
      "cell_type": "markdown",
      "metadata": {
        "id": "3IHuR2DYy7P9"
      },
      "source": [
        "## Training"
      ]
    },
    {
      "cell_type": "code",
      "metadata": {
        "id": "hxE8AA4wbs5R"
      },
      "source": [
        "def IoU(indeces, gt):\n",
        "  acc = 0\n",
        "  for count in range(indeces.shape[0]):\n",
        "    I = indeces[count]\n",
        "    J = gt[count]\n",
        "    acc += np.sum((I==1) * (J==1)) / np.sum((I==1) + (J==1))\n",
        "  return acc"
      ],
      "execution_count": null,
      "outputs": []
    },
    {
      "cell_type": "code",
      "metadata": {
        "colab": {
          "base_uri": "https://localhost:8080/"
        },
        "id": "pgYtlFne9U3k",
        "outputId": "51f00e5a-8dc0-4afc-b21f-4510c1c6715d"
      },
      "source": [
        "model = UNet(1, 1).to(device)\n",
        "optimizer = optim.Adam(model.parameters(), learning_rate)\n",
        "criterion = nn.BCEWithLogitsLoss().to(device)\n",
        "\n",
        "def train(model, epoch):\n",
        "    print('[Epoch]', epoch)\n",
        "    for batch_idx, data in enumerate(train_dataloader):  \n",
        "\n",
        "        images = (data['image'] / 255).to(device)\n",
        "        label = (data['mask'] // 255).to(device)\n",
        "\n",
        "        #training\n",
        "        optimizer.zero_grad()\n",
        "        outputs = model.forward(images)\n",
        "        loss = criterion(outputs, label)\n",
        "        loss.backward()\n",
        "        optimizer.step()\n",
        "        #end of traingning\n",
        "\n",
        "        if batch_idx % freq == 0:\n",
        "            print('     Loss: {:.3f} '.format(loss.item()))\n",
        "\n",
        "\n",
        "def test(model):\n",
        "    loss = 0\n",
        "    acc = 0\n",
        "    with torch.no_grad():\n",
        "        for data in val_dataloader:\n",
        "            images = (data['image'] / 255).to(device)\n",
        "            labels = (data['mask'] // 255).to(device)\n",
        "\n",
        "            outputs = model(images)\n",
        "            indeces = (outputs> 0.5).long().cpu().numpy()\n",
        "            gt = labels.long().cpu().numpy()\n",
        "            loss += criterion(outputs.float(), labels.float()).item()\n",
        "            \n",
        "            #IOU\n",
        "            for count in range(indeces.shape[0]):\n",
        "                I = indeces[count]\n",
        "                J = gt[count]\n",
        "                acc += np.sum((I==1) * (J==1)) / np.sum((I==1) + (J==1))\n",
        "\n",
        "    print(\"Loss: {:.3f} Acc: {:.3f}%\".format(loss, (acc/len(val_dataloader.dataset) * 100)))\n",
        "\n",
        "\n",
        "\n",
        "for epoch in range(1, n_eopchs):\n",
        "    train(model, epoch)\n",
        "    test(model)"
      ],
      "execution_count": null,
      "outputs": [
        {
          "output_type": "stream",
          "text": [
            "[Epoch] 1\n",
            "     Loss: 0.761 \n",
            "     Loss: 0.592 \n",
            "     Loss: 0.474 \n",
            "Loss: 1.787 Acc: 79.819%\n",
            "[Epoch] 2\n",
            "     Loss: 0.437 \n",
            "     Loss: 0.361 \n",
            "     Loss: 0.309 \n",
            "Loss: 1.223 Acc: 83.898%\n",
            "[Epoch] 3\n",
            "     Loss: 0.301 \n",
            "     Loss: 0.263 \n",
            "     Loss: 0.262 \n",
            "Loss: 1.010 Acc: 84.909%\n",
            "[Epoch] 4\n",
            "     Loss: 0.247 \n",
            "     Loss: 0.233 \n",
            "     Loss: 0.219 \n",
            "Loss: 0.919 Acc: 85.510%\n",
            "[Epoch] 5\n",
            "     Loss: 0.216 \n",
            "     Loss: 0.211 \n",
            "     Loss: 0.212 \n",
            "Loss: 0.872 Acc: 86.072%\n",
            "[Epoch] 6\n",
            "     Loss: 0.209 \n",
            "     Loss: 0.196 \n",
            "     Loss: 0.192 \n",
            "Loss: 0.842 Acc: 86.557%\n",
            "[Epoch] 7\n",
            "     Loss: 0.194 \n",
            "     Loss: 0.188 \n",
            "     Loss: 0.188 \n",
            "Loss: 0.818 Acc: 87.198%\n",
            "[Epoch] 8\n",
            "     Loss: 0.189 \n",
            "     Loss: 0.190 \n",
            "     Loss: 0.173 \n",
            "Loss: 0.790 Acc: 87.894%\n",
            "[Epoch] 9\n",
            "     Loss: 0.188 \n",
            "     Loss: 0.174 \n",
            "     Loss: 0.185 \n",
            "Loss: 0.776 Acc: 88.010%\n",
            "[Epoch] 10\n",
            "     Loss: 0.171 \n",
            "     Loss: 0.167 \n",
            "     Loss: 0.179 \n",
            "Loss: 0.755 Acc: 88.727%\n",
            "[Epoch] 11\n",
            "     Loss: 0.165 \n",
            "     Loss: 0.173 \n",
            "     Loss: 0.172 \n",
            "Loss: 0.744 Acc: 88.615%\n",
            "[Epoch] 12\n",
            "     Loss: 0.162 \n",
            "     Loss: 0.178 \n",
            "     Loss: 0.157 \n",
            "Loss: 0.733 Acc: 88.877%\n",
            "[Epoch] 13\n",
            "     Loss: 0.154 \n",
            "     Loss: 0.167 \n",
            "     Loss: 0.154 \n",
            "Loss: 0.713 Acc: 89.247%\n",
            "[Epoch] 14\n",
            "     Loss: 0.156 \n",
            "     Loss: 0.157 \n",
            "     Loss: 0.153 \n",
            "Loss: 0.706 Acc: 89.132%\n",
            "[Epoch] 15\n",
            "     Loss: 0.147 \n",
            "     Loss: 0.160 \n",
            "     Loss: 0.149 \n",
            "Loss: 0.692 Acc: 89.143%\n",
            "[Epoch] 16\n",
            "     Loss: 0.145 \n",
            "     Loss: 0.149 \n",
            "     Loss: 0.141 \n",
            "Loss: 0.681 Acc: 89.419%\n",
            "[Epoch] 17\n",
            "     Loss: 0.143 \n",
            "     Loss: 0.147 \n",
            "     Loss: 0.141 \n",
            "Loss: 0.673 Acc: 89.381%\n",
            "[Epoch] 18\n",
            "     Loss: 0.141 \n",
            "     Loss: 0.135 \n",
            "     Loss: 0.140 \n",
            "Loss: 0.664 Acc: 89.298%\n",
            "[Epoch] 19\n",
            "     Loss: 0.140 \n",
            "     Loss: 0.132 \n",
            "     Loss: 0.133 \n",
            "Loss: 0.653 Acc: 89.449%\n"
          ],
          "name": "stdout"
        }
      ]
    },
    {
      "cell_type": "markdown",
      "metadata": {
        "id": "XlWhUQcMyW8x"
      },
      "source": [
        "## Visualization\n"
      ]
    },
    {
      "cell_type": "markdown",
      "metadata": {
        "id": "LPMTvh_3zByn"
      },
      "source": [
        "visualize output of your trained network on 5 data from validation dataset, and compare it with ground truth."
      ]
    },
    {
      "cell_type": "code",
      "metadata": {
        "colab": {
          "base_uri": "https://localhost:8080/",
          "height": 281
        },
        "id": "gk-OqCrJbggW",
        "outputId": "7c6fc0fb-c4d6-439e-ae49-8db53c874cc9"
      },
      "source": [
        "#using numpy for visualization\n",
        "\n",
        "_, pic = plt.subplots(5, 2)\n",
        "count = 0\n",
        "GT = np.empty((0,1,32 ,32))\n",
        "OP = np.empty((0,1,32 ,32))\n",
        "pic[0,0].title.set_text('ground gruth')\n",
        "pic[0,1].title.set_text('predicted image')\n",
        "\n",
        "for data in val_dataloader:\n",
        "    if count>5:\n",
        "        break\n",
        "    #data   \n",
        "    labels = (data['mask'] // 255).to(device)\n",
        "    images = (data['image'] / 255).to(device)\n",
        "    outputs = model.forward(images)\n",
        "    \n",
        "    GT = np.append(GT, labels.long().cpu().numpy(), axis=0)\n",
        "    OP = np.append(OP, (outputs>0.5).long().cpu().numpy(), axis=0)\n",
        "    count+=1\n",
        "\n",
        "\n",
        "\n",
        "## without gray filter\n",
        "for i in range(5):\n",
        "    pic[i, 0].imshow(GT[i][0].squeeze())\n",
        "    pic[i, 1].imshow(OP[i][0].squeeze())\n",
        "\n"
      ],
      "execution_count": null,
      "outputs": [
        {
          "output_type": "display_data",
          "data": {
            "image/png": "[encoded data removed]",
            "text/plain": [
              "<Figure size 432x288 with 10 Axes>"
            ]
          },
          "metadata": {
            "tags": [],
            "needs_background": "light"
          }
        }
      ]
    },
    {
      "cell_type": "markdown",
      "metadata": {
        "id": "TLThQ1kxzT0o"
      },
      "source": [
        "## Improve U-Net (bonus)"
      ]
    },
    {
      "cell_type": "markdown",
      "metadata": {
        "id": "z3RHpUhyzm1Z"
      },
      "source": [
        "improve U-Net and compare accuracy and networks outputs with previous parts."
      ]
    },
    {
      "cell_type": "code",
      "metadata": {
        "id": "u9tj1WoVzUms"
      },
      "source": [],
      "execution_count": null,
      "outputs": []
    }
  ]
}